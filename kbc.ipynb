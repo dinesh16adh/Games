{
 "cells": [
  {
   "cell_type": "code",
   "execution_count": 1,
   "metadata": {},
   "outputs": [
    {
     "name": "stdout",
     "output_type": "stream",
     "text": [
      "501000\n"
     ]
    }
   ],
   "source": [
    "questions = [\n",
    "    [\"what is your name\", \"dinesh\", \"adhikari\", \"ascol\", \"pokhara\", 1],\n",
    "    [\"what is your lname\", \"dinesh\", \"adhikari\", \"ascol\", \"pokhara\", 2],\n",
    "    [\"where did you study\", \"dinesh\", \"adhikari\", \"ascol\", \"pokhara\", 3],\n",
    "    [\"what are you from\", \"dinesh\", \"adhikari\", \"ascol\", \"pokhara\", 4],\n",
    "    [\"what is your name\", \"dinesh\", \"adhikari\", \"ascol\", \"pokhara\", 1],\n",
    "    [\"what is your name\", \"dinesh\", \"adhikari\", \"ascol\", \"pokhara\", 1],\n",
    "    [\"what is your name\", \"dinesh\", \"adhikari\", \"ascol\", \"pokhara\", 1],\n",
    "]\n",
    "# print(count)\n",
    "# print(len(questions))\n",
    "# for i in range(0, len(questions)):\n",
    "def kbc(i):\n",
    "    temp = [1000, 10000, 20000, 50000, 100000, 320000, 5000000, 100000]\n",
    "    return temp[i]\n",
    "count = 0\n",
    "# temp = [1000,10000,20000,50000]\n",
    "x = 0\n",
    "for i in questions:\n",
    "\n",
    "    a = int(input(f\"{i[0]}\\n1.{i[1]}\\n2.{i[2]}\\n3.{i[3]}\\n4.{i[4]}\"))\n",
    "    if a == i[5]:\n",
    "\n",
    "        if x >= 0:\n",
    "            temp = kbc(x)\n",
    "            count = count + temp\n",
    "            x = x + 1\n",
    "        #   print(count)\n",
    "    else:\n",
    "        break\n",
    "\n",
    "print(count)\n",
    "# print(count)\n",
    "# print(len(questions))\n",
    "# for i in range(0, len(questions)):\n",
    "# def kbc(i):\n",
    "#    temp = [1000,10000,20000,50000]\n",
    "#    return temp[i]"
   ]
  }
 ],
 "metadata": {
  "kernelspec": {
   "display_name": "Python 3",
   "language": "python",
   "name": "python3"
  },
  "language_info": {
   "codemirror_mode": {
    "name": "ipython",
    "version": 3
   },
   "file_extension": ".py",
   "mimetype": "text/x-python",
   "name": "python",
   "nbconvert_exporter": "python",
   "pygments_lexer": "ipython3",
   "version": "3.12.2"
  }
 },
 "nbformat": 4,
 "nbformat_minor": 2
}
