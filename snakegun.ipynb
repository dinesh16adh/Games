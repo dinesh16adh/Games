{
 "cells": [
  {
   "cell_type": "code",
   "execution_count": null,
   "metadata": {},
   "outputs": [],
   "source": [
    "import random\n",
    "\n",
    "def check(comp,a):\n",
    "    if(comp==a):\n",
    "        return 0\n",
    "    elif(comp==0 and a==1):\n",
    "        return -1\n",
    "    elif(comp==1 and a==2):\n",
    "        return -1\n",
    "comp = random.randint(0,2)\n",
    "a = int(input(\"enter 0 for snake\\n 1 for water \\n2 for gun\"))\n",
    "b = check(comp,a)\n",
    "if(b==0):\n",
    "    print(\"nobody wins\")\n",
    "elif(b==-1):\n",
    "    print(\"computer wins\")\n",
    "else:\n",
    "    print(\"you wins\")"
   ]
  }
 ],
 "metadata": {
  "kernelspec": {
   "display_name": "Python 3",
   "language": "python",
   "name": "python3"
  },
  "language_info": {
   "name": "python",
   "version": "3.12.2"
  }
 },
 "nbformat": 4,
 "nbformat_minor": 2
}
